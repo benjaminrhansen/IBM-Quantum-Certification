{
 "cells": [
  {
   "cell_type": "code",
   "execution_count": 37,
   "id": "5dfc8d12-1666-4ef5-a685-f1028d3fd2e5",
   "metadata": {},
   "outputs": [],
   "source": [
    "%matplotlib inline\n",
    "%config InlineBackend.print_figure_kwargs={'facecolor' : \"w\"}\n",
    "from qiskit.quantum_info import Operator\n",
    "from qiskit.circuit.library import XGate\n",
    "from qiskit import *\n",
    "from qiskit.visualization import *\n",
    "from qiskit import QuantumCircuit\n",
    "from qiskit.providers.aer import QasmSimulator\n",
    "from qiskit.providers.ibmq import least_busy\n",
    "import numpy"
   ]
  },
  {
   "cell_type": "code",
   "execution_count": 29,
   "id": "620931db-2c0e-4b85-920e-f795f726785a",
   "metadata": {},
   "outputs": [
    {
     "name": "stderr",
     "output_type": "stream",
     "text": [
      "ibmqfactory.load_account:WARNING:2021-06-05 22:20:14,607: Credentials are already in use. The existing account in the session will be replaced.\n"
     ]
    }
   ],
   "source": [
    "from qiskit import IBMQ\n",
    "IBMQ.save_account('9025f732dc1e1ad07b66794a0bd160d2d0bc7158aaab1d8d4041473e41938dc8585771c8b062ffae687b2dae0d7ee8e01d44ece5fb390acc39cf23c251502064', overwrite=True)\n",
    "\n",
    "def get_hub():\n",
    "    return 'ibm-q'\n",
    "\n",
    "def get_group():\n",
    "    return 'open'\n",
    "\n",
    "def get_project():\n",
    "    return 'main'\n",
    "\n",
    "provider = IBMQ.load_account()"
   ]
  },
  {
   "cell_type": "code",
   "execution_count": 30,
   "id": "f4a2ac2c-98b4-498b-8130-3429f80ab7be",
   "metadata": {},
   "outputs": [
    {
     "data": {
      "text/plain": [
       "[<IBMQSimulator('ibmq_qasm_simulator') from IBMQ(hub='ibm-q', group='open', project='main')>,\n",
       " <IBMQBackend('ibmqx2') from IBMQ(hub='ibm-q', group='open', project='main')>,\n",
       " <IBMQBackend('ibmq_16_melbourne') from IBMQ(hub='ibm-q', group='open', project='main')>,\n",
       " <IBMQBackend('ibmq_armonk') from IBMQ(hub='ibm-q', group='open', project='main')>,\n",
       " <IBMQBackend('ibmq_athens') from IBMQ(hub='ibm-q', group='open', project='main')>,\n",
       " <IBMQBackend('ibmq_santiago') from IBMQ(hub='ibm-q', group='open', project='main')>,\n",
       " <IBMQBackend('ibmq_lima') from IBMQ(hub='ibm-q', group='open', project='main')>,\n",
       " <IBMQBackend('ibmq_belem') from IBMQ(hub='ibm-q', group='open', project='main')>,\n",
       " <IBMQBackend('ibmq_quito') from IBMQ(hub='ibm-q', group='open', project='main')>,\n",
       " <IBMQSimulator('simulator_statevector') from IBMQ(hub='ibm-q', group='open', project='main')>,\n",
       " <IBMQSimulator('simulator_mps') from IBMQ(hub='ibm-q', group='open', project='main')>,\n",
       " <IBMQSimulator('simulator_extended_stabilizer') from IBMQ(hub='ibm-q', group='open', project='main')>,\n",
       " <IBMQSimulator('simulator_stabilizer') from IBMQ(hub='ibm-q', group='open', project='main')>,\n",
       " <IBMQBackend('ibmq_manila') from IBMQ(hub='ibm-q', group='open', project='main')>]"
      ]
     },
     "execution_count": 30,
     "metadata": {},
     "output_type": "execute_result"
    }
   ],
   "source": [
    "# available backends\n",
    "provider.backends()"
   ]
  },
  {
   "cell_type": "code",
   "execution_count": 14,
   "id": "525ca830-2d61-4193-b636-6cc7f0475ac3",
   "metadata": {},
   "outputs": [
    {
     "data": {
      "text/plain": [
       "<qiskit.extensions.unitary.UnitaryGate at 0x7faafbfb2a00>"
      ]
     },
     "execution_count": 14,
     "metadata": {},
     "output_type": "execute_result"
    }
   ],
   "source": [
    "op_a = Operator(XGate())\n",
    "op_b = numpy.exp(1j * 0.5) * Operator(XGate())"
   ]
  },
  {
   "cell_type": "markdown",
   "id": "fae85047-4f69-4524-a121-3d8cb4bc7f85",
   "metadata": {},
   "source": [
    "# Let's compare the measured results of these two operators"
   ]
  },
  {
   "cell_type": "code",
   "execution_count": 42,
   "id": "048f4091-f1e4-493f-928e-3345a970cc92",
   "metadata": {},
   "outputs": [
    {
     "data": {
      "text/html": [
       "<pre style=\"word-wrap: normal;white-space: pre;background: #fff0;line-height: 1.1;font-family: &quot;Courier New&quot;,Courier,monospace\">        ┌─────────┐ ░ ┌─┐\n",
       "   q_0: ┤ unitary ├─░─┤M├\n",
       "        └─────────┘ ░ └╥┘\n",
       "meas: 1/═══════════════╩═\n",
       "                       0 </pre>"
      ],
      "text/plain": [
       "        ┌─────────┐ ░ ┌─┐\n",
       "   q_0: ┤ unitary ├─░─┤M├\n",
       "        └─────────┘ ░ └╥┘\n",
       "meas: 1/═══════════════╩═\n",
       "                       0 "
      ]
     },
     "execution_count": 42,
     "metadata": {},
     "output_type": "execute_result"
    }
   ],
   "source": [
    "qc1 = QuantumCircuit(1, name=\"XGate\")\n",
    "qc1.append(op_a, [0])\n",
    "qc1.measure_all()\n",
    "qc1.draw()"
   ]
  },
  {
   "cell_type": "code",
   "execution_count": 43,
   "id": "7da22427-5862-4dfc-8e00-c5f8d09425ac",
   "metadata": {},
   "outputs": [
    {
     "data": {
      "text/html": [
       "<pre style=\"word-wrap: normal;white-space: pre;background: #fff0;line-height: 1.1;font-family: &quot;Courier New&quot;,Courier,monospace\">        ┌─────────┐ ░ ┌─┐\n",
       "   q_0: ┤ unitary ├─░─┤M├\n",
       "        └─────────┘ ░ └╥┘\n",
       "meas: 1/═══════════════╩═\n",
       "                       0 </pre>"
      ],
      "text/plain": [
       "        ┌─────────┐ ░ ┌─┐\n",
       "   q_0: ┤ unitary ├─░─┤M├\n",
       "        └─────────┘ ░ └╥┘\n",
       "meas: 1/═══════════════╩═\n",
       "                       0 "
      ]
     },
     "execution_count": 43,
     "metadata": {},
     "output_type": "execute_result"
    }
   ],
   "source": [
    "qc2 = QuantumCircuit(1, name=\"XGate with Global Phase\")\n",
    "qc2.append(op_b, [0])\n",
    "qc2.measure_all()\n",
    "qc2.draw()"
   ]
  },
  {
   "cell_type": "markdown",
   "id": "f81419df-323b-44e3-a239-4dff30a3b8e2",
   "metadata": {},
   "source": [
    "## Get results on qc1"
   ]
  },
  {
   "cell_type": "code",
   "execution_count": 44,
   "id": "60f668d9-5a83-4ff2-96f0-269d92663257",
   "metadata": {},
   "outputs": [],
   "source": [
    "# run it on real hardware to see if any physical effects are detected\n",
    "real_hardware = least_busy(provider.backends(filters=lambda x: x.configuration().n_qubits >= 1\n",
    "                                    and not x.configuration().simulator\n",
    "                                    and x.status().operational==True))\n",
    "job = execute(qc1, backend=real_hardware, shots=1024)"
   ]
  },
  {
   "cell_type": "code",
   "execution_count": 45,
   "id": "a8d6fbfc-1113-42ba-aa08-9aa069fe1ee9",
   "metadata": {},
   "outputs": [
    {
     "data": {
      "text/plain": [
       "{'0': 85, '1': 939}"
      ]
     },
     "execution_count": 45,
     "metadata": {},
     "output_type": "execute_result"
    }
   ],
   "source": [
    "result = job.result()\n",
    "counts = result.get_counts(qc1)\n",
    "counts"
   ]
  },
  {
   "cell_type": "markdown",
   "id": "073ed446-38a9-44c5-aadf-aa9d0d0f2109",
   "metadata": {},
   "source": [
    "## Get results on qc2"
   ]
  },
  {
   "cell_type": "code",
   "execution_count": 40,
   "id": "d3944f33-8306-4db1-8843-e77396222d0a",
   "metadata": {},
   "outputs": [
    {
     "ename": "NameError",
     "evalue": "name 'qc2' is not defined",
     "output_type": "error",
     "traceback": [
      "\u001b[0;31m---------------------------------------------------------------------------\u001b[0m",
      "\u001b[0;31mNameError\u001b[0m                                 Traceback (most recent call last)",
      "\u001b[0;32m<ipython-input-40-8b7e1164a79b>\u001b[0m in \u001b[0;36m<module>\u001b[0;34m\u001b[0m\n\u001b[1;32m      3\u001b[0m                                     \u001b[0;32mand\u001b[0m \u001b[0;32mnot\u001b[0m \u001b[0mx\u001b[0m\u001b[0;34m.\u001b[0m\u001b[0mconfiguration\u001b[0m\u001b[0;34m(\u001b[0m\u001b[0;34m)\u001b[0m\u001b[0;34m.\u001b[0m\u001b[0msimulator\u001b[0m\u001b[0;34m\u001b[0m\u001b[0;34m\u001b[0m\u001b[0m\n\u001b[1;32m      4\u001b[0m                                     and x.status().operational==True))\n\u001b[0;32m----> 5\u001b[0;31m \u001b[0mjob\u001b[0m \u001b[0;34m=\u001b[0m \u001b[0mexecute\u001b[0m\u001b[0;34m(\u001b[0m\u001b[0mqc2\u001b[0m\u001b[0;34m,\u001b[0m \u001b[0mbackend\u001b[0m\u001b[0;34m=\u001b[0m\u001b[0mreal_hardware\u001b[0m\u001b[0;34m,\u001b[0m \u001b[0mshots\u001b[0m\u001b[0;34m=\u001b[0m\u001b[0;36m1024\u001b[0m\u001b[0;34m)\u001b[0m\u001b[0;34m\u001b[0m\u001b[0;34m\u001b[0m\u001b[0m\n\u001b[0m",
      "\u001b[0;31mNameError\u001b[0m: name 'qc2' is not defined"
     ]
    }
   ],
   "source": [
    "# run it on real hardware to see if any physical effects are detected\n",
    "real_hardware = least_busy(provider.backends(filters=lambda x: x.configuration().n_qubits >= 1\n",
    "                                    and not x.configuration().simulator\n",
    "                                    and x.status().operational==True))\n",
    "job = execute(qc2, backend=real_hardware, shots=1024)"
   ]
  },
  {
   "cell_type": "code",
   "execution_count": 39,
   "id": "7bb63c5f-3a23-4b5e-bb85-f68dbfcd9a49",
   "metadata": {},
   "outputs": [
    {
     "data": {
      "text/plain": [
       "{'0': 92, '1': 932}"
      ]
     },
     "execution_count": 39,
     "metadata": {},
     "output_type": "execute_result"
    }
   ],
   "source": [
    "result = job.result()\n",
    "counts = result.get_counts(qc2)\n",
    "counts"
   ]
  }
 ],
 "metadata": {
  "kernelspec": {
   "display_name": "Python 3",
   "language": "python",
   "name": "python3"
  },
  "language_info": {
   "codemirror_mode": {
    "name": "ipython",
    "version": 3
   },
   "file_extension": ".py",
   "mimetype": "text/x-python",
   "name": "python",
   "nbconvert_exporter": "python",
   "pygments_lexer": "ipython3",
   "version": "3.8.8"
  }
 },
 "nbformat": 4,
 "nbformat_minor": 5
}
