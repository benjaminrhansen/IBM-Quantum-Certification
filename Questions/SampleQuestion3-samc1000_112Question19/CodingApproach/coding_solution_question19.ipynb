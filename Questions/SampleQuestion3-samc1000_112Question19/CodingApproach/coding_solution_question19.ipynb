{
 "cells": [
  {
   "cell_type": "code",
   "execution_count": 4,
   "id": "9e358d6f-bce0-4bff-83df-e2c4b5b9279b",
   "metadata": {},
   "outputs": [],
   "source": [
    "%matplotlib inline\n",
    "%config InlineBackend.print_figure_kwargs={'facecolor' : \"w\"}\n",
    "from qiskit.quantum_info import Operator\n",
    "from qiskit.circuit.library import XGate\n",
    "from qiskit import *\n",
    "from qiskit.visualization import *\n",
    "from qiskit import QuantumCircuit\n",
    "from qiskit.providers.aer import QasmSimulator\n",
    "from qiskit.quantum_info import *\n",
    "import numpy"
   ]
  },
  {
   "cell_type": "code",
   "execution_count": 28,
   "id": "5245e2c7-db77-4dda-aa19-ae47b080029f",
   "metadata": {},
   "outputs": [],
   "source": [
    "op_a = Operator(XGate())\n",
    "op_b = numpy.exp(1j * 0.5) * Operator(XGate())"
   ]
  },
  {
   "cell_type": "markdown",
   "id": "8493aee5-3918-4fce-bca1-5ec8136aa858",
   "metadata": {},
   "source": [
    "# Let's compare the fidelity of these two operators"
   ]
  },
  {
   "cell_type": "markdown",
   "id": "a127e003-58a0-4af5-8017-956043f2880d",
   "metadata": {},
   "source": [
    "## process fidelity"
   ]
  },
  {
   "cell_type": "code",
   "execution_count": 31,
   "id": "a402b231-db09-4073-81d5-d1000baef6f0",
   "metadata": {},
   "outputs": [
    {
     "name": "stdout",
     "output_type": "stream",
     "text": [
      "1.0\n"
     ]
    }
   ],
   "source": [
    "print(process_fidelity(op_b, target=op_a))"
   ]
  },
  {
   "cell_type": "markdown",
   "id": "12aff5d6-bb22-4244-be64-77f6544d117b",
   "metadata": {},
   "source": [
    "## average gate fidelity"
   ]
  },
  {
   "cell_type": "code",
   "execution_count": 33,
   "id": "5c236310-db89-4c09-86f2-e97f5209a6b7",
   "metadata": {},
   "outputs": [
    {
     "name": "stdout",
     "output_type": "stream",
     "text": [
      "1.0\n"
     ]
    }
   ],
   "source": [
    "print(average_gate_fidelity(op_b, target=op_a))"
   ]
  },
  {
   "cell_type": "markdown",
   "id": "ed7dffa9-960f-4cf2-86a5-77f07ef5244c",
   "metadata": {},
   "source": [
    "## state fidelity"
   ]
  },
  {
   "cell_type": "code",
   "execution_count": 40,
   "id": "3bf7da4c-e0a5-4bad-9759-44bbc478d5d3",
   "metadata": {},
   "outputs": [
    {
     "ename": "QiskitError",
     "evalue": "'Input quantum state is not a valid'",
     "output_type": "error",
     "traceback": [
      "\u001b[0;31m---------------------------------------------------------------------------\u001b[0m",
      "\u001b[0;31mQiskitError\u001b[0m                               Traceback (most recent call last)",
      "\u001b[0;32m<ipython-input-40-27d8e51fc3bc>\u001b[0m in \u001b[0;36m<module>\u001b[0;34m\u001b[0m\n\u001b[0;32m----> 1\u001b[0;31m \u001b[0mprint\u001b[0m\u001b[0;34m(\u001b[0m\u001b[0mstate_fidelity\u001b[0m\u001b[0;34m(\u001b[0m\u001b[0mDensityMatrix\u001b[0m\u001b[0;34m(\u001b[0m\u001b[0mop_a\u001b[0m\u001b[0;34m)\u001b[0m\u001b[0;34m,\u001b[0m \u001b[0mDensityMatrix\u001b[0m\u001b[0;34m(\u001b[0m\u001b[0mop_b\u001b[0m\u001b[0;34m)\u001b[0m\u001b[0;34m)\u001b[0m\u001b[0;34m)\u001b[0m\u001b[0;34m\u001b[0m\u001b[0;34m\u001b[0m\u001b[0m\n\u001b[0m",
      "\u001b[0;32m/opt/anaconda3/envs/quantum_finance/lib/python3.8/site-packages/qiskit/quantum_info/states/measures.py\u001b[0m in \u001b[0;36mstate_fidelity\u001b[0;34m(state1, state2, validate)\u001b[0m\n\u001b[1;32m     49\u001b[0m     \"\"\"\n\u001b[1;32m     50\u001b[0m     \u001b[0;31m# convert input to numpy arrays\u001b[0m\u001b[0;34m\u001b[0m\u001b[0;34m\u001b[0m\u001b[0;34m\u001b[0m\u001b[0m\n\u001b[0;32m---> 51\u001b[0;31m     \u001b[0mstate1\u001b[0m \u001b[0;34m=\u001b[0m \u001b[0m_format_state\u001b[0m\u001b[0;34m(\u001b[0m\u001b[0mstate1\u001b[0m\u001b[0;34m,\u001b[0m \u001b[0mvalidate\u001b[0m\u001b[0;34m=\u001b[0m\u001b[0mvalidate\u001b[0m\u001b[0;34m)\u001b[0m\u001b[0;34m\u001b[0m\u001b[0;34m\u001b[0m\u001b[0m\n\u001b[0m\u001b[1;32m     52\u001b[0m     \u001b[0mstate2\u001b[0m \u001b[0;34m=\u001b[0m \u001b[0m_format_state\u001b[0m\u001b[0;34m(\u001b[0m\u001b[0mstate2\u001b[0m\u001b[0;34m,\u001b[0m \u001b[0mvalidate\u001b[0m\u001b[0;34m=\u001b[0m\u001b[0mvalidate\u001b[0m\u001b[0;34m)\u001b[0m\u001b[0;34m\u001b[0m\u001b[0;34m\u001b[0m\u001b[0m\n\u001b[1;32m     53\u001b[0m \u001b[0;34m\u001b[0m\u001b[0m\n",
      "\u001b[0;32m/opt/anaconda3/envs/quantum_finance/lib/python3.8/site-packages/qiskit/quantum_info/states/utils.py\u001b[0m in \u001b[0;36m_format_state\u001b[0;34m(state, validate)\u001b[0m\n\u001b[1;32m    132\u001b[0m         \u001b[0;32mraise\u001b[0m \u001b[0mQiskitError\u001b[0m\u001b[0;34m(\u001b[0m\u001b[0;34m\"Input is not a quantum state\"\u001b[0m\u001b[0;34m)\u001b[0m\u001b[0;34m\u001b[0m\u001b[0;34m\u001b[0m\u001b[0m\n\u001b[1;32m    133\u001b[0m     \u001b[0;32mif\u001b[0m \u001b[0mvalidate\u001b[0m \u001b[0;32mand\u001b[0m \u001b[0;32mnot\u001b[0m \u001b[0mstate\u001b[0m\u001b[0;34m.\u001b[0m\u001b[0mis_valid\u001b[0m\u001b[0;34m(\u001b[0m\u001b[0;34m)\u001b[0m\u001b[0;34m:\u001b[0m\u001b[0;34m\u001b[0m\u001b[0;34m\u001b[0m\u001b[0m\n\u001b[0;32m--> 134\u001b[0;31m         \u001b[0;32mraise\u001b[0m \u001b[0mQiskitError\u001b[0m\u001b[0;34m(\u001b[0m\u001b[0;34m\"Input quantum state is not a valid\"\u001b[0m\u001b[0;34m)\u001b[0m\u001b[0;34m\u001b[0m\u001b[0;34m\u001b[0m\u001b[0m\n\u001b[0m\u001b[1;32m    135\u001b[0m     \u001b[0;32mreturn\u001b[0m \u001b[0mstate\u001b[0m\u001b[0;34m\u001b[0m\u001b[0;34m\u001b[0m\u001b[0m\n\u001b[1;32m    136\u001b[0m \u001b[0;34m\u001b[0m\u001b[0m\n",
      "\u001b[0;31mQiskitError\u001b[0m: 'Input quantum state is not a valid'"
     ]
    }
   ],
   "source": [
    "print(state_fidelity(DensityMatrix(op_a), DensityMatrix(op_b)))"
   ]
  },
  {
   "cell_type": "code",
   "execution_count": null,
   "id": "dd2fba27-cd90-427e-a478-f409e06971b1",
   "metadata": {},
   "outputs": [],
   "source": []
  }
 ],
 "metadata": {
  "kernelspec": {
   "display_name": "Python 3",
   "language": "python",
   "name": "python3"
  },
  "language_info": {
   "codemirror_mode": {
    "name": "ipython",
    "version": 3
   },
   "file_extension": ".py",
   "mimetype": "text/x-python",
   "name": "python",
   "nbconvert_exporter": "python",
   "pygments_lexer": "ipython3",
   "version": "3.8.8"
  }
 },
 "nbformat": 4,
 "nbformat_minor": 5
}
